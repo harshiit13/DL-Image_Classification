{
 "cells": [
  {
   "cell_type": "code",
   "execution_count": null,
   "id": "6c96364f",
   "metadata": {},
   "outputs": [],
   "source": []
  },
  {
   "cell_type": "code",
   "execution_count": null,
   "id": "b99a6c96",
   "metadata": {},
   "outputs": [],
   "source": []
  },
  {
   "cell_type": "code",
   "execution_count": null,
   "id": "8e5675c3",
   "metadata": {},
   "outputs": [],
   "source": []
  },
  {
   "cell_type": "code",
   "execution_count": null,
   "id": "5517acfe",
   "metadata": {},
   "outputs": [],
   "source": []
  },
  {
   "cell_type": "code",
   "execution_count": null,
   "id": "df4aca3d",
   "metadata": {},
   "outputs": [],
   "source": []
  },
  {
   "cell_type": "code",
   "execution_count": null,
   "id": "3eaf5e4e",
   "metadata": {},
   "outputs": [],
   "source": []
  },
  {
   "cell_type": "code",
   "execution_count": 1,
   "id": "a561ba55",
   "metadata": {},
   "outputs": [],
   "source": [
    "import tensorflow as tf\n",
    "from tensorflow import keras\n",
    "from tensorflow.keras import layers,models\n",
    "from tensorflow.keras.models import load_model\n",
    "\n",
    "\n",
    "m1=load_model('model1.h5',compile=False)\n",
    "m1\n",
    "m1.compile(optimizer='adam',\n",
    "              loss='sparse_categorical_crossentropy',\n",
    "              metrics=['accuracy'])\n",
    "classes = [\"Airplane\",\"Car\",\"Bird\",\"Cat\",\"Deer\",\"Dog\",\"Frog\",\"Horse\",\"Ship\",\"Truck\"]"
   ]
  },
  {
   "cell_type": "code",
   "execution_count": 2,
   "id": "16bf4c49",
   "metadata": {},
   "outputs": [
    {
     "name": "stdout",
     "output_type": "stream",
     "text": [
      "(1, 32, 32, 3)\n",
      "1/1 [==============================] - 0s 265ms/step\n",
      "Car\n"
     ]
    }
   ],
   "source": [
    "import numpy as np\n",
    "import tkinter as tk\n",
    "from tkinter import *\n",
    "from tkinter import filedialog\n",
    "from PIL import ImageTk, Image\n",
    "from numpy import asarray\n",
    "import tensorflow as tf\n",
    "from tensorflow import keras\n",
    "from tensorflow.keras import layers,models\n",
    "from tensorflow.keras.models import load_model\n",
    "\n",
    "\n",
    "root = Tk()\n",
    "root[\"bg\"] = \"#7a215a\"\n",
    "root.attributes('-fullscreen', True)\n",
    "\n",
    "root.title(\"Image Prediction\")\n",
    "\n",
    "frame = tk.Frame(root, bg='#7a215a')\n",
    "\n",
    "lbl_pic_name = tk.Label(frame, text='Image of :', padx=25, pady=25,\n",
    "                        font=('verdana',16), bg='#7a215a')\n",
    "lbl_show_pic = tk.Label(frame, bg='#7a215a')\n",
    "entry_pic_name = tk.Entry(frame, font=('verdana',16))\n",
    "btn_browse = tk.Button(frame, text='Select Image',bg='blue', fg='#ffffff',\n",
    "                       font=('verdana',16))\n",
    "btn_pro = tk.Button(frame, text='Procrss',bg='green', fg='#ffffff',\n",
    "                       font=('verdana',16))\n",
    "exit_button = Button(frame, text=\"Exit\", command=root.destroy,fg='#ffffff',font=('verdana',16),bg=\"red\")\n",
    "\n",
    "\n",
    "\n",
    "def selectPic():\n",
    "    global img\n",
    "    global filename\n",
    "    filename= filedialog.askopenfilename(initialdir=\"/images\", title=\"Select Image\",\n",
    "                           filetypes=((\"jpg images\",\"*.jpg\"),(\"png images\",\"*.png\")))\n",
    "    img = Image.open(filename)\n",
    "    img = img.resize((280,280))\n",
    "    img = ImageTk.PhotoImage(img)\n",
    "    lbl_show_pic['image'] = img\n",
    "    entry_pic_name.delete(0, \"end\")\n",
    "    \n",
    "    \n",
    "def process():\n",
    "    img = Image.open(filename)\n",
    "    img=img.resize((32,32))\n",
    "    ndata = np.array(img)\n",
    "    #ndata.reshape(32,32,3)\n",
    "    predict=np.array([ndata])\n",
    "    print(predict.shape)\n",
    "    ans=m1.predict(predict)\n",
    "    print(classes[ans.argmax()])\n",
    "    entry_pic_name.insert(0, classes[ans.argmax()])\n",
    "    \n",
    "\n",
    "\n",
    "btn_browse['command'] = selectPic\n",
    "btn_pro['command'] = process\n",
    "\n",
    "frame.pack()\n",
    "\n",
    "lbl_pic_name.grid(row=0, column=0)\n",
    "entry_pic_name.grid(row=0, column=1, padx=(0,20))\n",
    "lbl_show_pic.grid(row=1, column=0, columnspan=\"2\")\n",
    "btn_browse.grid(row=4, column=0, columnspan=\"2\", padx=10, pady=10)\n",
    "btn_pro.grid(row=5, column=0, columnspan=\"2\", padx=0, pady=0)\n",
    "exit_button.grid(row=6,column=0,columnspan=\"2\",padx=10,pady=20)\n",
    "\n",
    "root.mainloop()"
   ]
  },
  {
   "cell_type": "code",
   "execution_count": null,
   "id": "67fe2e60",
   "metadata": {},
   "outputs": [],
   "source": []
  },
  {
   "cell_type": "code",
   "execution_count": null,
   "id": "3bde80f8",
   "metadata": {},
   "outputs": [],
   "source": []
  }
 ],
 "metadata": {
  "kernelspec": {
   "display_name": "Python 3 (ipykernel)",
   "language": "python",
   "name": "python3"
  },
  "language_info": {
   "codemirror_mode": {
    "name": "ipython",
    "version": 3
   },
   "file_extension": ".py",
   "mimetype": "text/x-python",
   "name": "python",
   "nbconvert_exporter": "python",
   "pygments_lexer": "ipython3",
   "version": "3.10.13"
  }
 },
 "nbformat": 4,
 "nbformat_minor": 5
}
